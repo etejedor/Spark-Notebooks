{
 "cells": [
  {
   "cell_type": "markdown",
   "metadata": {},
   "source": [
    "<img src=\"https://swan.web.cern.ch/sites/swan.web.cern.ch/files/pictures/logo_swan_letters.png\" alt=\"SWAN\" style=\"float: left; width: 25%; margin-right: 15%; margin-left: 15%; margin-bottom: 2.0em;\">\n",
    "<img src=\"http://spark-mooc.github.io/web-assets/images/ta_Spark-logo-small.png\" alt=\"EP-SFT\" style=\"float: left; width: 25%; margin-right: 10%; margin-bottom: 2.0em;\">\n",
    "<p style=\"clear: both;\">\n",
    "# **Integration of SWAN with Spark clusters**\n",
    "<hr style=\"border-top-width: 4px; border-top-color: #34609b;\">"
   ]
  },
  {
   "cell_type": "markdown",
   "metadata": {},
   "source": [
    "This notebook demonstrates the functionality provided by a SWAN server that allows to offload computations to an external Spark cluster. The code below works with Spark version 2.2.0 or higher. We will connect to the Spark cluster that was previously selected in the SWAN web form."
   ]
  },
  {
   "cell_type": "markdown",
   "metadata": {},
   "source": [
    "We will first acquire the necessary credentials to access the Spark cluster."
   ]
  },
  {
   "cell_type": "code",
   "execution_count": 1,
   "metadata": {
    "collapsed": false
   },
   "outputs": [
    {
     "name": "stdout",
     "output_type": "stream",
     "text": [
      "Please enter your password\n",
      "········\n",
      "Credentials created successfully\n"
     ]
    }
   ],
   "source": [
    "import getpass\n",
    "import os, sys\n",
    "\n",
    "print(\"Please enter your password\")\n",
    "ret = os.system(\"echo \\\"%s\\\" | kinit\" % getpass.getpass())\n",
    "\n",
    "if ret == 0: print(\"Credentials created successfully\")\n",
    "else:        sys.stderr.write('Error creating credentials, return code: %s\\n' % ret)"
   ]
  },
  {
   "cell_type": "markdown",
   "metadata": {},
   "source": [
    "Next, some Spark imports."
   ]
  },
  {
   "cell_type": "code",
   "execution_count": 2,
   "metadata": {
    "collapsed": true
   },
   "outputs": [],
   "source": [
    "from pyspark import SparkConf, SparkContext\n",
    "from pyspark.sql import SparkSession"
   ]
  },
  {
   "cell_type": "markdown",
   "metadata": {},
   "source": [
    "Now we will create the SparkContext, where we will configure the Spark driver to connect to the previously selected cluster. Note that this cell will take some time to run since it triggers the first connection to the cluster.\n",
    "\n",
    "It is worth pointing out that **this configuration step will be automatized**: a graphical interface will hide most of these configuration options and allow to set other parameters like the number of executors."
   ]
  },
  {
   "cell_type": "code",
   "execution_count": 3,
   "metadata": {
    "collapsed": false,
    "scrolled": false
   },
   "outputs": [],
   "source": [
    "conf = SparkConf()\n",
    "conf.set('spark.driver.host', os.environ['SERVER_HOSTNAME'])\n",
    "conf.set('spark.driver.port', os.environ['SPARK_PORT_1'])\n",
    "conf.set('spark.blockManager.port', os.environ['SPARK_PORT_2'])\n",
    "conf.set('spark.ui.port', os.environ['SPARK_PORT_3'])\n",
    "conf.set('spark.master', 'yarn')\n",
    "conf.set('spark.authenticate', True)\n",
    "conf.set('spark.network.crypto.enabled', True)\n",
    "conf.set('spark.authenticate.enableSaslEncryption', True)\n",
    "sc = SparkContext(conf = conf)\n",
    "spark = SparkSession(sc)"
   ]
  },
  {
   "cell_type": "markdown",
   "metadata": {},
   "source": [
    "Once Spark is configured, we can try a simple map-reduce example that calculates the sum of squares of a list of numbers."
   ]
  },
  {
   "cell_type": "code",
   "execution_count": 4,
   "metadata": {
    "collapsed": false
   },
   "outputs": [],
   "source": [
    "myNums = sc.parallelize(range(10))\n",
    "myNums.map(lambda x: x*x).reduce(lambda x,y: x+y)"
   ]
  }
 ],
 "metadata": {
  "kernelspec": {
   "display_name": "Python 2",
   "language": "python",
   "name": "python2"
  },
  "language_info": {
   "codemirror_mode": {
    "name": "ipython",
    "version": 2
   },
   "file_extension": ".py",
   "mimetype": "text/x-python",
   "name": "python",
   "nbconvert_exporter": "python",
   "pygments_lexer": "ipython2",
   "version": "2.7.6"
  }
 },
 "nbformat": 4,
 "nbformat_minor": 1
}

{
 "cells": [
  {
   "cell_type": "markdown",
   "metadata": {},
   "source": [
    "<img src=\"https://swan.web.cern.ch/sites/swan.web.cern.ch/files/pictures/logo_swan_letters.png\" alt=\"SWAN\" style=\"float: left; width: 25%; margin-right: 15%; margin-left: 15%; margin-bottom: 2.0em;\">\n",
    "<img src=\"http://spark-mooc.github.io/web-assets/images/ta_Spark-logo-small.png\" alt=\"EP-SFT\" style=\"float: left; width: 25%; margin-right: 10%; margin-bottom: 2.0em;\">\n",
    "<p style=\"clear: both;\">\n",
    "# **Integration of SWAN with Spark clusters**\n",
    "<hr style=\"border-top-width: 4px; border-top-color: #34609b;\">"
   ]
  },
  {
   "cell_type": "markdown",
   "metadata": {},
   "source": [
    "This notebook demonstrates the functionality provided by a SWAN prototype machine that allows to offload computations to an external Spark cluster. The Spark version we are going to use is 2.1.0 (included in the LCG_88 release) and we are going to connect to the Hadalytic cluster (as previously selected in the SWAN web form). "
   ]
  },
  {
   "cell_type": "markdown",
   "metadata": {},
   "source": [
    "In this example, we will query an HBase database and show some results. We will first acquire the necessary credentials to access the database."
   ]
  },
  {
   "cell_type": "code",
   "execution_count": 1,
   "metadata": {
    "collapsed": false
   },
   "outputs": [
    {
     "name": "stdout",
     "output_type": "stream",
     "text": [
      "········\n"
     ]
    },
    {
     "data": {
      "text/plain": [
       "0"
      ]
     },
     "execution_count": 1,
     "metadata": {},
     "output_type": "execute_result"
    }
   ],
   "source": [
    "import getpass\n",
    "import os\n",
    "os.system(\"echo %s | kinit\" %getpass.getpass())"
   ]
  },
  {
   "cell_type": "markdown",
   "metadata": {},
   "source": [
    "Second, we will download a couple of NXCALS jars that we need to query the database. Note that **these jars could be placed on CVMFS**, so that this step would not be necessary."
   ]
  },
  {
   "cell_type": "code",
   "execution_count": 2,
   "metadata": {
    "collapsed": false
   },
   "outputs": [],
   "source": [
    "%%bash\n",
    "wget -N -q https://etejedor.web.cern.ch/etejedor/nxcals/hortonworks-shc-core-cern-1.0.3-2.1-s_2.11-CERN.jar\n",
    "wget -N -q https://etejedor.web.cern.ch/etejedor/nxcals/accsoft-nxcals-data-access-0.0.1.jar"
   ]
  },
  {
   "cell_type": "markdown",
   "metadata": {},
   "source": [
    "Next, some Spark imports."
   ]
  },
  {
   "cell_type": "code",
   "execution_count": 3,
   "metadata": {
    "collapsed": true
   },
   "outputs": [],
   "source": [
    "from pyspark import SparkConf, SparkContext\n",
    "from pyspark.sql import SparkSession"
   ]
  },
  {
   "cell_type": "markdown",
   "metadata": {},
   "source": [
    "Now we will do some configuration for the Spark driver to work from inside the user container. We will also define the necessary jars (note that the HBase jars are already located on CVMFS).\n",
    "\n",
    "It is worth pointing out that **this configuration step could be automatized**: the user could receive a ``conf`` object with all these parameters already set and eventually configure other parameters like the number of executors."
   ]
  },
  {
   "cell_type": "code",
   "execution_count": 4,
   "metadata": {
    "collapsed": false,
    "scrolled": false
   },
   "outputs": [],
   "source": [
    "conf = SparkConf()\n",
    "conf.set('spark.driver.host', 'swan-16c-01.cern.ch')\n",
    "conf.set('spark.driver.port', '9000')\n",
    "conf.set('spark.fileserver.port', '9001')\n",
    "conf.set('spark.blockManager.port', '9002')\n",
    "conf.set('spark.ui.enabled', 'false')\n",
    "conf.set('spark.master', 'yarn')\n",
    "conf.set('spark.jars', './accsoft-nxcals-data-access-0.0.1.jar,./hortonworks-shc-core-cern-1.0.3-2.1-s_2.11-CERN.jar')\n",
    "conf.set('spark.driver.extraClassPath', '{HBASE_LIB_DIR}/hbase-client-1.2.0.jar:{HBASE_LIB_DIR}/hbase-common-1.2.0.jar:{HBASE_LIB_DIR}/hbase-protocol-1.2.0.jar:{HBASE_LIB_DIR}/htrace-core-3.1.0-incubating.jar:{HBASE_LIB_DIR}/metrics-core-2.2.0.jar'.format(HBASE_LIB_DIR='/cvmfs/sft-nightlies.cern.ch/lcg/nightlies/dev3/Tue/hbase/1.2.0/x86_64-slc6-gcc49-opt/lib'))\n",
    "sc = SparkContext(conf = conf)\n",
    "spark = SparkSession(sc)"
   ]
  },
  {
   "cell_type": "markdown",
   "metadata": {},
   "source": [
    "Once Spark is configured, we can go ahead and query the database. First we show a pandas table containing some ALICE monitoring acquisition data."
   ]
  },
  {
   "cell_type": "code",
   "execution_count": 5,
   "metadata": {
    "collapsed": false
   },
   "outputs": [
    {
     "data": {
      "text/html": [
       "<div>\n",
       "<table border=\"1\" class=\"dataframe\">\n",
       "  <thead>\n",
       "    <tr style=\"text-align: right;\">\n",
       "      <th></th>\n",
       "      <th>acqStamp</th>\n",
       "      <th>voltage_18V</th>\n",
       "      <th>current_18V</th>\n",
       "    </tr>\n",
       "  </thead>\n",
       "  <tbody>\n",
       "    <tr>\n",
       "      <th>0</th>\n",
       "      <td>1490279670476150000</td>\n",
       "      <td>19.868026</td>\n",
       "      <td>38.203642</td>\n",
       "    </tr>\n",
       "    <tr>\n",
       "      <th>1</th>\n",
       "      <td>1490279669675867000</td>\n",
       "      <td>19.875643</td>\n",
       "      <td>38.188409</td>\n",
       "    </tr>\n",
       "    <tr>\n",
       "      <th>2</th>\n",
       "      <td>1490279668875692000</td>\n",
       "      <td>19.869550</td>\n",
       "      <td>38.218874</td>\n",
       "    </tr>\n",
       "    <tr>\n",
       "      <th>3</th>\n",
       "      <td>1490279668075397000</td>\n",
       "      <td>NaN</td>\n",
       "      <td>38.112246</td>\n",
       "    </tr>\n",
       "    <tr>\n",
       "      <th>4</th>\n",
       "      <td>1490279667275107000</td>\n",
       "      <td>NaN</td>\n",
       "      <td>38.188409</td>\n",
       "    </tr>\n",
       "    <tr>\n",
       "      <th>5</th>\n",
       "      <td>1490279666474816000</td>\n",
       "      <td>19.868026</td>\n",
       "      <td>38.173176</td>\n",
       "    </tr>\n",
       "    <tr>\n",
       "      <th>6</th>\n",
       "      <td>1490279665674514000</td>\n",
       "      <td>19.886306</td>\n",
       "      <td>38.279805</td>\n",
       "    </tr>\n",
       "    <tr>\n",
       "      <th>7</th>\n",
       "      <td>1490279664874300000</td>\n",
       "      <td>19.869550</td>\n",
       "      <td>38.203642</td>\n",
       "    </tr>\n",
       "    <tr>\n",
       "      <th>8</th>\n",
       "      <td>1490279664074029000</td>\n",
       "      <td>NaN</td>\n",
       "      <td>38.218874</td>\n",
       "    </tr>\n",
       "    <tr>\n",
       "      <th>9</th>\n",
       "      <td>1490279663273754000</td>\n",
       "      <td>NaN</td>\n",
       "      <td>38.203642</td>\n",
       "    </tr>\n",
       "  </tbody>\n",
       "</table>\n",
       "</div>"
      ],
      "text/plain": [
       "              acqStamp  voltage_18V  current_18V\n",
       "0  1490279670476150000    19.868026    38.203642\n",
       "1  1490279669675867000    19.875643    38.188409\n",
       "2  1490279668875692000    19.869550    38.218874\n",
       "3  1490279668075397000          NaN    38.112246\n",
       "4  1490279667275107000          NaN    38.188409\n",
       "5  1490279666474816000    19.868026    38.173176\n",
       "6  1490279665674514000    19.886306    38.279805\n",
       "7  1490279664874300000    19.869550    38.203642\n",
       "8  1490279664074029000          NaN    38.218874\n",
       "9  1490279663273754000          NaN    38.203642"
      ]
     },
     "execution_count": 5,
     "metadata": {},
     "output_type": "execute_result"
    }
   ],
   "source": [
    "import time\n",
    "import calendar\n",
    "\n",
    "df1 = spark.read.options(system=\"CMW\",device=\"RADMON.ALICE10\",property=\"ExpertMonitoringAcquisition\",start_time=str((calendar.timegm(time.gmtime())-84600)*1000000000),end_time=str(calendar.timegm(time.gmtime())*1000000000)).format(\"cern.accsoft.nxcals.data.access.api\").load()\n",
    "df1.select('acqStamp','voltage_18V','current_18V').toPandas()[:10]"
   ]
  },
  {
   "cell_type": "markdown",
   "metadata": {},
   "source": [
    "Now a time series plot with matplotlib."
   ]
  },
  {
   "cell_type": "code",
   "execution_count": 7,
   "metadata": {
    "collapsed": false
   },
   "outputs": [
    {
     "data": {
      "image/png": "[encoded data removed]",
      "text/plain": [
       "<matplotlib.figure.Figure at 0x7f062b8d7150>"
      ]
     },
     "metadata": {},
     "output_type": "display_data"
    }
   ],
   "source": [
    "import matplotlib\n",
    "%matplotlib inline  \n",
    "\n",
    "df2 = spark.read.options(system=\"CMW\",device=\"NXCALS_LHC_DEV1\",property=\"Logging\",start_time=str((calendar.timegm(time.gmtime())-84600)*1000000000),end_time=str(calendar.timegm(time.gmtime())*1000000000)).format(\"cern.accsoft.nxcals.data.access.api\").load()\n",
    "df2.select('acqStamp','doubleField').toPandas()[:200].sort_values(by='acqStamp').plot(x='acqStamp');"
   ]
  }
 ],
 "metadata": {
  "kernelspec": {
   "display_name": "Python 2",
   "language": "python",
   "name": "python2"
  },
  "language_info": {
   "codemirror_mode": {
    "name": "ipython",
    "version": 2
   },
   "file_extension": ".py",
   "mimetype": "text/x-python",
   "name": "python",
   "nbconvert_exporter": "python",
   "pygments_lexer": "ipython2",
   "version": "2.7.13"
  }
 },
 "nbformat": 4,
 "nbformat_minor": 1
}

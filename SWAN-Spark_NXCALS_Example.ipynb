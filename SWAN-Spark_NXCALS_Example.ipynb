{
 "cells": [
  {
   "cell_type": "markdown",
   "metadata": {},
   "source": [
    "<img src=\"https://swan.web.cern.ch/sites/swan.web.cern.ch/files/pictures/logo_swan_letters.png\" alt=\"SWAN\" style=\"float: left; width: 25%; margin-right: 15%; margin-left: 15%; margin-bottom: 2.0em;\">\n",
    "<img src=\"http://spark-mooc.github.io/web-assets/images/ta_Spark-logo-small.png\" alt=\"EP-SFT\" style=\"float: left; width: 25%; margin-right: 10%; margin-bottom: 2.0em;\">\n",
    "<p style=\"clear: both;\">\n",
    "# **Integration of SWAN with Spark clusters**\n",
    "<hr style=\"border-top-width: 4px; border-top-color: #34609b;\">"
   ]
  },
  {
   "cell_type": "markdown",
   "metadata": {},
   "source": [
    "This notebook demonstrates the functionality provided by a SWAN server that allows to offload computations to an external Spark cluster. The code below works with Spark version 2.2.0 or higher. We will connect to the Spark cluster that was previously selected in the SWAN web form."
   ]
  },
  {
   "cell_type": "markdown",
   "metadata": {},
   "source": [
    "In this example, we will query an HBase database and show some results. We will first acquire the necessary credentials to access the database."
   ]
  },
  {
   "cell_type": "code",
   "execution_count": 1,
   "metadata": {
    "collapsed": false
   },
   "outputs": [
    {
     "name": "stdout",
     "output_type": "stream",
     "text": [
      "Please enter your password\n",
      "········\n",
      "Credentials created successfully\n"
     ]
    }
   ],
   "source": [
    "import getpass\n",
    "import os, sys\n",
    "\n",
    "print(\"Please enter your password\")\n",
    "ret = os.system(\"echo \\\"%s\\\" | kinit\" % getpass.getpass())\n",
    "\n",
    "if ret == 0: print(\"Credentials created successfully\")\n",
    "else:        sys.stderr.write('Error creating credentials, return code: %s\\n' % ret)"
   ]
  },
  {
   "cell_type": "markdown",
   "metadata": {},
   "source": [
    "Next, some Spark imports."
   ]
  },
  {
   "cell_type": "code",
   "execution_count": 2,
   "metadata": {
    "collapsed": true
   },
   "outputs": [],
   "source": [
    "from pyspark import SparkConf, SparkContext\n",
    "from pyspark.sql import SparkSession"
   ]
  },
  {
   "cell_type": "markdown",
   "metadata": {},
   "source": [
    "Now we will create the SparkContext, where we will configure the Spark driver to connect to the previously selected cluster. We will also define the necessary jars (note that the HBase jars are already located on CVMFS). Note that this cell will take some time to run since it triggers the first connection to the cluster.\n",
    "\n",
    "It is worth pointing out that **this configuration step will be automatized**: a graphical interface will hide most of these configuration options and allow to set other parameters like the number of executors."
   ]
  },
  {
   "cell_type": "code",
   "execution_count": 3,
   "metadata": {
    "collapsed": false,
    "scrolled": false
   },
   "outputs": [],
   "source": [
    "conf = SparkConf()\n",
    "\n",
    "conf.set('spark.driver.host', os.environ['SERVER_HOSTNAME'])\n",
    "conf.set('spark.driver.port', os.environ['SPARK_PORT_1'])\n",
    "conf.set('spark.blockManager.port', os.environ['SPARK_PORT_2'])\n",
    "conf.set('spark.ui.port', os.environ['SPARK_PORT_3'])\n",
    "conf.set('spark.master', 'yarn')\n",
    "conf.set('spark.authenticate', True)\n",
    "conf.set('spark.network.crypto.enabled', True)\n",
    "conf.set('spark.authenticate.enableSaslEncryption', True)\n",
    "\n",
    "conf.set('spark.jars', '{lcgview}/lib/accsoft/accsoft-nxcals-data-access-0.1.4.jar,{lcgview}/lib/accsoft/dependency/accsoft-nxcals-common-0.1.4.jar,{lcgview}/lib/accsoft/dependency/accsoft-nxcals-service-client-0.1.4.jar,{lcgview}/lib/accsoft/dependency/activation-1.1.jar,{lcgview}/lib/accsoft/dependency/apacheds-i18n-2.0.0-M15.jar,{lcgview}/lib/accsoft/dependency/apacheds-kerberos-codec-2.0.0-M15.jar,{lcgview}/lib/accsoft/dependency/api-asn1-api-1.0.0-M20.jar,{lcgview}/lib/accsoft/dependency/api-util-1.0.0-M20.jar,{lcgview}/lib/accsoft/dependency/aspectjrt-1.8.10.jar,{lcgview}/lib/accsoft/dependency/aspectjweaver-1.8.10.jar,{lcgview}/lib/accsoft/dependency/avro-1.8.1.jar,{lcgview}/lib/accsoft/dependency/commons-beanutils-1.7.0.jar,{lcgview}/lib/accsoft/dependency/commons-beanutils-core-1.8.0.jar,{lcgview}/lib/accsoft/dependency/commons-cli-1.2.jar,{lcgview}/lib/accsoft/dependency/commons-codec-1.10.jar,{lcgview}/lib/accsoft/dependency/commons-collections-3.2.2.jar,{lcgview}/lib/accsoft/dependency/commons-compress-1.8.1.jar,{lcgview}/lib/accsoft/dependency/commons-configuration-1.6.jar,{lcgview}/lib/accsoft/dependency/commons-daemon-1.0.13.jar,{lcgview}/lib/accsoft/dependency/commons-digester-1.8.jar,{lcgview}/lib/accsoft/dependency/commons-el-1.0.jar,{lcgview}/lib/accsoft/dependency/commons-httpclient-3.1.jar,{lcgview}/lib/accsoft/dependency/commons-io-2.5.jar,{lcgview}/lib/accsoft/dependency/commons-lang-2.6.jar,{lcgview}/lib/accsoft/dependency/commons-lang3-3.5.jar,{lcgview}/lib/accsoft/dependency/commons-logging-1.2.jar,{lcgview}/lib/accsoft/dependency/commons-math-2.1.jar,{lcgview}/lib/accsoft/dependency/commons-math3-3.4.1.jar,{lcgview}/lib/accsoft/dependency/commons-net-2.2.jar,{lcgview}/lib/accsoft/dependency/commons-pool2-2.4.2.jar,{lcgview}/lib/accsoft/dependency/config-1.3.1.jar,{lcgview}/lib/accsoft/dependency/curator-client-2.7.1.jar,{lcgview}/lib/accsoft/dependency/curator-framework-2.7.1.jar,{lcgview}/lib/accsoft/dependency/curator-recipes-2.4.0.jar,{lcgview}/lib/accsoft/dependency/disruptor-3.3.0.jar,{lcgview}/lib/accsoft/dependency/findbugs-annotations-1.3.9-1.jar,{lcgview}/lib/accsoft/dependency/gson-2.2.4.jar,{lcgview}/lib/accsoft/dependency/guava-16.0.jar,{lcgview}/lib/accsoft/dependency/hadoop-annotations-2.6.0-cdh5.7.5.jar,{lcgview}/lib/accsoft/dependency/hadoop-auth-2.6.0-cdh5.7.5.jar,{lcgview}/lib/accsoft/dependency/hadoop-common-2.6.0-cdh5.7.5.jar,{lcgview}/lib/accsoft/dependency/hadoop-hdfs-2.6.0-cdh5.7.5.jar,{lcgview}/lib/accsoft/dependency/hadoop-hdfs-2.6.0-cdh5.7.5-tests.jar,{lcgview}/lib/accsoft/dependency/hamcrest-core-1.3.jar,{lcgview}/lib/accsoft/dependency/hbase-annotations-1.2.0-cdh5.7.5.jar,{lcgview}/lib/accsoft/dependency/hbase-client-1.2.0-cdh5.7.5.jar,{lcgview}/lib/accsoft/dependency/hbase-common-1.2.0-cdh5.7.5.jar,{lcgview}/lib/accsoft/dependency/hbase-common-1.2.0-cdh5.7.5-tests.jar,{lcgview}/lib/accsoft/dependency/hbase-hadoop2-compat-1.2.0-cdh5.7.5.jar,{lcgview}/lib/accsoft/dependency/hbase-hadoop-compat-1.2.0-cdh5.7.5.jar,{lcgview}/lib/accsoft/dependency/hbase-prefix-tree-1.2.0-cdh5.7.5.jar,{lcgview}/lib/accsoft/dependency/hbase-procedure-1.2.0-cdh5.7.5.jar,{lcgview}/lib/accsoft/dependency/hbase-protocol-1.2.0-cdh5.7.5.jar,{lcgview}/lib/accsoft/dependency/hbase-server-1.2.0-cdh5.7.5.jar,{lcgview}/lib/accsoft/dependency/high-scale-lib-1.1.1.jar,{lcgview}/lib/accsoft/dependency/hortonworks-shc-core-cern-1.0.3-2.1-s_2.11-CERN.jar,{lcgview}/lib/accsoft/dependency/htrace-core-3.2.0-incubating.jar,{lcgview}/lib/accsoft/dependency/htrace-core4-4.0.1-incubating.jar,{lcgview}/lib/accsoft/dependency/httpclient-4.5.2.jar,{lcgview}/lib/accsoft/dependency/httpcore-4.4.4.jar,{lcgview}/lib/accsoft/dependency/jackson-annotations-2.6.0.jar,{lcgview}/lib/accsoft/dependency/jackson-core-2.6.5.jar,{lcgview}/lib/accsoft/dependency/jackson-core-asl-1.9.13.jar,{lcgview}/lib/accsoft/dependency/jackson-databind-2.6.5.jar,{lcgview}/lib/accsoft/dependency/jackson-jaxrs-1.8.8.jar,{lcgview}/lib/accsoft/dependency/jackson-mapper-asl-1.9.13.jar,{lcgview}/lib/accsoft/dependency/jackson-xc-1.8.3.jar,{lcgview}/lib/accsoft/dependency/jamon-runtime-2.4.1.jar,{lcgview}/lib/accsoft/dependency/jasper-compiler-5.5.23.jar,{lcgview}/lib/accsoft/dependency/jasper-runtime-5.5.23.jar,{lcgview}/lib/accsoft/dependency/javax.servlet-api-3.1.0.jar,{lcgview}/lib/accsoft/dependency/jaxb-api-2.2.2.jar,{lcgview}/lib/accsoft/dependency/jaxb-impl-2.2.3-1.jar,{lcgview}/lib/accsoft/dependency/jcodings-1.0.8.jar,{lcgview}/lib/accsoft/dependency/jersey-core-1.9.jar,{lcgview}/lib/accsoft/dependency/jersey-json-1.9.jar,{lcgview}/lib/accsoft/dependency/jersey-server-1.9.jar,{lcgview}/lib/accsoft/dependency/jets3t-0.7.1.jar,{lcgview}/lib/accsoft/dependency/jettison-1.1.jar,{lcgview}/lib/accsoft/dependency/jetty-6.1.26.cloudera.4.jar,{lcgview}/lib/accsoft/dependency/jetty-sslengine-6.1.26.cloudera.4.jar,{lcgview}/lib/accsoft/dependency/jetty-util-6.1.26.cloudera.4.jar,{lcgview}/lib/accsoft/dependency/joni-2.1.2.jar,{lcgview}/lib/accsoft/dependency/jsch-0.1.42.jar,{lcgview}/lib/accsoft/dependency/jsp-2.1-6.1.14.jar,{lcgview}/lib/accsoft/dependency/jsp-api-2.1-6.1.14.jar,{lcgview}/lib/accsoft/dependency/leveldbjni-all-1.8.jar,{lcgview}/lib/accsoft/dependency/log4j-1.2-api-2.6.2.jar,{lcgview}/lib/accsoft/dependency/log4j-api-2.6.2.jar,{lcgview}/lib/accsoft/dependency/log4j-core-2.6.2.jar,{lcgview}/lib/accsoft/dependency/log4j-slf4j-impl-2.6.2.jar,{lcgview}/lib/accsoft/dependency/metrics-core-2.2.0.jar,{lcgview}/lib/accsoft/dependency/netty-all-4.0.23.Final.jar,{lcgview}/lib/accsoft/dependency/paranamer-2.7.jar,{lcgview}/lib/accsoft/dependency/protobuf-java-2.5.0.jar,{lcgview}/lib/accsoft/dependency/scala-library-2.11.8.jar,{lcgview}/lib/accsoft/dependency/slf4j-api-1.7.21.jar,{lcgview}/lib/accsoft/dependency/snappy-java-1.1.1.3.jar,{lcgview}/lib/accsoft/dependency/stax-api-1.0-2.jar,{lcgview}/lib/accsoft/dependency/xmlenc-0.52.jar,{lcgview}/lib/accsoft/dependency/xz-1.5.jar,{lcgview}/lib/accsoft/dependency/zookeeper-3.4.5-cdh5.7.5.jar'.format(lcgview = os.environ['LCG_VIEW']))\n",
    "conf.set('spark.driver.extraJavaOptions', '-Dservice.url=http://cs-ccr-nxcalsstr1.cern.ch:19093')\n",
    "conf.set('spark.driver.memory', '8g')\n",
    "\n",
    "sc = SparkContext(conf = conf)\n",
    "spark = SparkSession(sc)"
   ]
  },
  {
   "cell_type": "markdown",
   "metadata": {},
   "source": [
    "Once Spark is configured, we can go ahead and query the database."
   ]
  },
  {
   "cell_type": "code",
   "execution_count": 4,
   "metadata": {
    "collapsed": false
   },
   "outputs": [],
   "source": [
    "from cern.accsoft.nxcals.pyquery.builders import *"
   ]
  },
  {
   "cell_type": "code",
   "execution_count": 5,
   "metadata": {
    "collapsed": false
   },
   "outputs": [
    {
     "name": "stdout",
     "output_type": "stream",
     "text": [
      "root\n",
      " |-- acqStamp: long (nullable = true)\n",
      " |-- nxcals_entity_id: long (nullable = true)\n",
      " |-- cyclestamp: long (nullable = true)\n",
      " |-- voltage_18V: double (nullable = true)\n",
      " |-- current_8V5: double (nullable = true)\n",
      " |-- voltage_3V3: double (nullable = true)\n",
      " |-- temperatureSensorBoard: double (nullable = true)\n",
      " |-- warningBits: integer (nullable = true)\n",
      " |-- current_18V: double (nullable = true)\n",
      " |-- PinDiodeVoltageOutOfRange: boolean (nullable = true)\n",
      " |-- property: string (nullable = true)\n",
      " |-- selector: string (nullable = true)\n",
      " |-- temperatureDeported: double (nullable = true)\n",
      " |-- class: string (nullable = true)\n",
      " |-- current_radfet: double (nullable = true)\n",
      " |-- Radfet2VoltageOutOfRange: boolean (nullable = true)\n",
      " |-- voltage_memoryBank2: double (nullable = true)\n",
      " |-- voltage_sensorAdcRef: double (nullable = true)\n",
      " |-- __record_version__: long (nullable = true)\n",
      " |-- current_memBanks: double (nullable = true)\n",
      " |-- voltage_3VNeg: double (nullable = true)\n",
      " |-- Radfet1VoltageOutOfRange: boolean (nullable = true)\n",
      " |-- nxcals_timestamp: long (nullable = true)\n",
      " |-- voltage_5V: double (nullable = true)\n",
      " |-- device: string (nullable = true)\n",
      " |-- pt100Value: double (nullable = true)\n",
      "\n"
     ]
    }
   ],
   "source": [
    "query = DevicePropertyQueryBuilder().system(\"CMW\").device(\"RADMON.PS-1\").property(\"ExpertMonitoringAcquisition\") \\\n",
    "    .start_time(\"2017-06-10 00:00:00.000\").end_time(\"2017-06-11 00:00:00.000\").build_query()\n",
    "        \n",
    "df1 = spark.read.options(**query.get_map()).format(\"cern.accsoft.nxcals.data.access.api\").load()\n",
    "\n",
    "df1.printSchema()"
   ]
  },
  {
   "cell_type": "code",
   "execution_count": 6,
   "metadata": {
    "collapsed": false
   },
   "outputs": [
    {
     "name": "stdout",
     "output_type": "stream",
     "text": [
      "+--------+-------------------+------------------+\n",
      "|selector|   nxcals_timestamp|        pt100Value|\n",
      "+--------+-------------------+------------------+\n",
      "|    null|1497052884872473000|      108.57187849|\n",
      "|    null|1497053192139704000|108.11673318999999|\n",
      "|    null|1497053290561304000|      108.07121866|\n",
      "|    null|1497053364977589000|      108.05604715|\n",
      "|    null|1497053464999073000|      108.20776225|\n",
      "|    null|1497053591426205000|      108.79945114|\n",
      "|    null|1497053904294788000|108.23810526999999|\n",
      "|    null|1497054133944520000|       108.4353349|\n",
      "|    null|1497054209160665000|108.60222150999999|\n",
      "|    null|1497054548434291000|      108.42016339|\n",
      "|    null|1497054558836559000|      108.61739302|\n",
      "|    null|1497054726072146000|      108.08639017|\n",
      "|    null|1497054741275405000|      108.81462265|\n",
      "|    null|1497054930116250000|      108.10156168|\n",
      "|    null|1497055383813460000|      108.29879131|\n",
      "|    null|1497055669475059000|      108.08639017|\n",
      "|    null|1497055808704900000|      108.08639017|\n",
      "|    null|1497055859916517000|      108.19259074|\n",
      "|    null|1497055938333445000|      108.07121866|\n",
      "|    null|1497056011149105000|      108.07121866|\n",
      "+--------+-------------------+------------------+\n",
      "only showing top 20 rows\n",
      "\n"
     ]
    }
   ],
   "source": [
    "df1.select(\"selector\",\"nxcals_timestamp\",\"pt100Value\").show()"
   ]
  },
  {
   "cell_type": "code",
   "execution_count": 7,
   "metadata": {
    "collapsed": true
   },
   "outputs": [],
   "source": [
    "df1.createOrReplaceTempView(\"temp\")"
   ]
  },
  {
   "cell_type": "code",
   "execution_count": 8,
   "metadata": {
    "collapsed": false
   },
   "outputs": [
    {
     "data": {
      "text/html": [
       "<div>\n",
       "<table border=\"1\" class=\"dataframe\">\n",
       "  <thead>\n",
       "    <tr style=\"text-align: right;\">\n",
       "      <th></th>\n",
       "      <th>acqStamp</th>\n",
       "      <th>voltage_18V</th>\n",
       "      <th>current_18V</th>\n",
       "    </tr>\n",
       "  </thead>\n",
       "  <tbody>\n",
       "    <tr>\n",
       "      <th>0</th>\n",
       "      <td>1497052884872473000</td>\n",
       "      <td>19.981064</td>\n",
       "      <td>39.828047</td>\n",
       "    </tr>\n",
       "    <tr>\n",
       "      <th>1</th>\n",
       "      <td>1497053192139704000</td>\n",
       "      <td>19.976493</td>\n",
       "      <td>40.071830</td>\n",
       "    </tr>\n",
       "    <tr>\n",
       "      <th>2</th>\n",
       "      <td>1497053290561304000</td>\n",
       "      <td>19.984111</td>\n",
       "      <td>39.873756</td>\n",
       "    </tr>\n",
       "    <tr>\n",
       "      <th>3</th>\n",
       "      <td>1497053364977589000</td>\n",
       "      <td>19.984111</td>\n",
       "      <td>39.888993</td>\n",
       "    </tr>\n",
       "    <tr>\n",
       "      <th>4</th>\n",
       "      <td>1497053464999073000</td>\n",
       "      <td>19.987158</td>\n",
       "      <td>40.026121</td>\n",
       "    </tr>\n",
       "    <tr>\n",
       "      <th>5</th>\n",
       "      <td>1497053591426205000</td>\n",
       "      <td>19.984111</td>\n",
       "      <td>40.330850</td>\n",
       "    </tr>\n",
       "    <tr>\n",
       "      <th>6</th>\n",
       "      <td>1497053904294788000</td>\n",
       "      <td>NaN</td>\n",
       "      <td>40.285140</td>\n",
       "    </tr>\n",
       "    <tr>\n",
       "      <th>7</th>\n",
       "      <td>1497054133944520000</td>\n",
       "      <td>19.944496</td>\n",
       "      <td>39.797574</td>\n",
       "    </tr>\n",
       "    <tr>\n",
       "      <th>8</th>\n",
       "      <td>1497054209160665000</td>\n",
       "      <td>19.985635</td>\n",
       "      <td>39.888993</td>\n",
       "    </tr>\n",
       "    <tr>\n",
       "      <th>9</th>\n",
       "      <td>1497054548434291000</td>\n",
       "      <td>20.013060</td>\n",
       "      <td>39.873756</td>\n",
       "    </tr>\n",
       "    <tr>\n",
       "      <th>10</th>\n",
       "      <td>1497054558836559000</td>\n",
       "      <td>NaN</td>\n",
       "      <td>39.888993</td>\n",
       "    </tr>\n",
       "    <tr>\n",
       "      <th>11</th>\n",
       "      <td>1497054726072146000</td>\n",
       "      <td>19.984111</td>\n",
       "      <td>40.087067</td>\n",
       "    </tr>\n",
       "    <tr>\n",
       "      <th>12</th>\n",
       "      <td>1497054741275405000</td>\n",
       "      <td>NaN</td>\n",
       "      <td>39.858520</td>\n",
       "    </tr>\n",
       "    <tr>\n",
       "      <th>13</th>\n",
       "      <td>1497054930116250000</td>\n",
       "      <td>19.985635</td>\n",
       "      <td>39.949939</td>\n",
       "    </tr>\n",
       "    <tr>\n",
       "      <th>14</th>\n",
       "      <td>1497055383813460000</td>\n",
       "      <td>19.985635</td>\n",
       "      <td>39.904229</td>\n",
       "    </tr>\n",
       "    <tr>\n",
       "      <th>15</th>\n",
       "      <td>1497055669475059000</td>\n",
       "      <td>19.985635</td>\n",
       "      <td>40.300377</td>\n",
       "    </tr>\n",
       "    <tr>\n",
       "      <th>16</th>\n",
       "      <td>1497055808704900000</td>\n",
       "      <td>NaN</td>\n",
       "      <td>40.193722</td>\n",
       "    </tr>\n",
       "    <tr>\n",
       "      <th>17</th>\n",
       "      <td>1497055859916517000</td>\n",
       "      <td>19.985635</td>\n",
       "      <td>39.980412</td>\n",
       "    </tr>\n",
       "    <tr>\n",
       "      <th>18</th>\n",
       "      <td>1497055938333445000</td>\n",
       "      <td>19.982588</td>\n",
       "      <td>39.934702</td>\n",
       "    </tr>\n",
       "    <tr>\n",
       "      <th>19</th>\n",
       "      <td>1497056011149105000</td>\n",
       "      <td>19.987158</td>\n",
       "      <td>39.858520</td>\n",
       "    </tr>\n",
       "    <tr>\n",
       "      <th>20</th>\n",
       "      <td>1497056119172222000</td>\n",
       "      <td>19.991729</td>\n",
       "      <td>39.858520</td>\n",
       "    </tr>\n",
       "    <tr>\n",
       "      <th>21</th>\n",
       "      <td>1497056193588373000</td>\n",
       "      <td>19.973446</td>\n",
       "      <td>40.117539</td>\n",
       "    </tr>\n",
       "    <tr>\n",
       "      <th>22</th>\n",
       "      <td>1497056393631162000</td>\n",
       "      <td>19.942973</td>\n",
       "      <td>39.828047</td>\n",
       "    </tr>\n",
       "    <tr>\n",
       "      <th>23</th>\n",
       "      <td>1497056751308067000</td>\n",
       "      <td>19.984111</td>\n",
       "      <td>39.888993</td>\n",
       "    </tr>\n",
       "    <tr>\n",
       "      <th>24</th>\n",
       "      <td>1497056860131250000</td>\n",
       "      <td>19.994777</td>\n",
       "      <td>39.949939</td>\n",
       "    </tr>\n",
       "    <tr>\n",
       "      <th>25</th>\n",
       "      <td>1497057188202572000</td>\n",
       "      <td>NaN</td>\n",
       "      <td>40.010884</td>\n",
       "    </tr>\n",
       "    <tr>\n",
       "      <th>26</th>\n",
       "      <td>1497057299426506000</td>\n",
       "      <td>19.993253</td>\n",
       "      <td>39.934702</td>\n",
       "    </tr>\n",
       "    <tr>\n",
       "      <th>27</th>\n",
       "      <td>1497057410650371000</td>\n",
       "      <td>19.979540</td>\n",
       "      <td>39.614737</td>\n",
       "    </tr>\n",
       "    <tr>\n",
       "      <th>28</th>\n",
       "      <td>1497057537078008000</td>\n",
       "      <td>19.993253</td>\n",
       "      <td>40.208958</td>\n",
       "    </tr>\n",
       "    <tr>\n",
       "      <th>29</th>\n",
       "      <td>1497057977972895000</td>\n",
       "      <td>19.985635</td>\n",
       "      <td>39.965175</td>\n",
       "    </tr>\n",
       "    <tr>\n",
       "      <th>...</th>\n",
       "      <td>...</td>\n",
       "      <td>...</td>\n",
       "      <td>...</td>\n",
       "    </tr>\n",
       "    <tr>\n",
       "      <th>107947</th>\n",
       "      <td>1497048239073525000</td>\n",
       "      <td>19.961257</td>\n",
       "      <td>40.178485</td>\n",
       "    </tr>\n",
       "    <tr>\n",
       "      <th>107948</th>\n",
       "      <td>1497048419912045000</td>\n",
       "      <td>19.987158</td>\n",
       "      <td>40.132776</td>\n",
       "    </tr>\n",
       "    <tr>\n",
       "      <th>107949</th>\n",
       "      <td>1497048470322876000</td>\n",
       "      <td>19.987158</td>\n",
       "      <td>40.163249</td>\n",
       "    </tr>\n",
       "    <tr>\n",
       "      <th>107950</th>\n",
       "      <td>1497048715175788000</td>\n",
       "      <td>19.987158</td>\n",
       "      <td>39.873756</td>\n",
       "    </tr>\n",
       "    <tr>\n",
       "      <th>107951</th>\n",
       "      <td>1497049188877755000</td>\n",
       "      <td>19.944496</td>\n",
       "      <td>40.056594</td>\n",
       "    </tr>\n",
       "    <tr>\n",
       "      <th>107952</th>\n",
       "      <td>1497049208081956000</td>\n",
       "      <td>NaN</td>\n",
       "      <td>39.949939</td>\n",
       "    </tr>\n",
       "    <tr>\n",
       "      <th>107953</th>\n",
       "      <td>1497049340110240000</td>\n",
       "      <td>19.984111</td>\n",
       "      <td>39.873756</td>\n",
       "    </tr>\n",
       "    <tr>\n",
       "      <th>107954</th>\n",
       "      <td>1497049464136971000</td>\n",
       "      <td>19.985635</td>\n",
       "      <td>39.965175</td>\n",
       "    </tr>\n",
       "    <tr>\n",
       "      <th>107955</th>\n",
       "      <td>1497049625772008000</td>\n",
       "      <td>20.011537</td>\n",
       "      <td>40.178485</td>\n",
       "    </tr>\n",
       "    <tr>\n",
       "      <th>107956</th>\n",
       "      <td>1497049781805356000</td>\n",
       "      <td>19.979540</td>\n",
       "      <td>40.285140</td>\n",
       "    </tr>\n",
       "    <tr>\n",
       "      <th>107957</th>\n",
       "      <td>1497049818613198000</td>\n",
       "      <td>20.011537</td>\n",
       "      <td>39.888993</td>\n",
       "    </tr>\n",
       "    <tr>\n",
       "      <th>107958</th>\n",
       "      <td>1497049985848839000</td>\n",
       "      <td>NaN</td>\n",
       "      <td>40.102303</td>\n",
       "    </tr>\n",
       "    <tr>\n",
       "      <th>107959</th>\n",
       "      <td>1497050179489858000</td>\n",
       "      <td>19.982588</td>\n",
       "      <td>39.919466</td>\n",
       "    </tr>\n",
       "    <tr>\n",
       "      <th>107960</th>\n",
       "      <td>1497050206695849000</td>\n",
       "      <td>19.944496</td>\n",
       "      <td>40.026121</td>\n",
       "    </tr>\n",
       "    <tr>\n",
       "      <th>107961</th>\n",
       "      <td>1497050237102488000</td>\n",
       "      <td>19.985635</td>\n",
       "      <td>39.949939</td>\n",
       "    </tr>\n",
       "    <tr>\n",
       "      <th>107962</th>\n",
       "      <td>1497050404338622000</td>\n",
       "      <td>19.984111</td>\n",
       "      <td>39.980412</td>\n",
       "    </tr>\n",
       "    <tr>\n",
       "      <th>107963</th>\n",
       "      <td>1497050517963144000</td>\n",
       "      <td>19.982588</td>\n",
       "      <td>39.919466</td>\n",
       "    </tr>\n",
       "    <tr>\n",
       "      <th>107964</th>\n",
       "      <td>1497050741211401000</td>\n",
       "      <td>19.984111</td>\n",
       "      <td>39.934702</td>\n",
       "    </tr>\n",
       "    <tr>\n",
       "      <th>107965</th>\n",
       "      <td>1497050770818023000</td>\n",
       "      <td>19.984111</td>\n",
       "      <td>39.919466</td>\n",
       "    </tr>\n",
       "    <tr>\n",
       "      <th>107966</th>\n",
       "      <td>1497050933253088000</td>\n",
       "      <td>19.985635</td>\n",
       "      <td>40.041357</td>\n",
       "    </tr>\n",
       "    <tr>\n",
       "      <th>107967</th>\n",
       "      <td>1497051134095618000</td>\n",
       "      <td>19.979540</td>\n",
       "      <td>39.965175</td>\n",
       "    </tr>\n",
       "    <tr>\n",
       "      <th>107968</th>\n",
       "      <td>1497051187707403000</td>\n",
       "      <td>19.984111</td>\n",
       "      <td>40.300377</td>\n",
       "    </tr>\n",
       "    <tr>\n",
       "      <th>107969</th>\n",
       "      <td>1497051318134710000</td>\n",
       "      <td>19.976493</td>\n",
       "      <td>40.026121</td>\n",
       "    </tr>\n",
       "    <tr>\n",
       "      <th>107970</th>\n",
       "      <td>1497051656607469000</td>\n",
       "      <td>19.984111</td>\n",
       "      <td>40.056594</td>\n",
       "    </tr>\n",
       "    <tr>\n",
       "      <th>107971</th>\n",
       "      <td>1497052037489995000</td>\n",
       "      <td>19.981064</td>\n",
       "      <td>39.828047</td>\n",
       "    </tr>\n",
       "    <tr>\n",
       "      <th>107972</th>\n",
       "      <td>1497052404769185000</td>\n",
       "      <td>NaN</td>\n",
       "      <td>40.026121</td>\n",
       "    </tr>\n",
       "    <tr>\n",
       "      <th>107973</th>\n",
       "      <td>1497052564803787000</td>\n",
       "      <td>NaN</td>\n",
       "      <td>39.904229</td>\n",
       "    </tr>\n",
       "    <tr>\n",
       "      <th>107974</th>\n",
       "      <td>1497052595210260000</td>\n",
       "      <td>19.970398</td>\n",
       "      <td>39.873756</td>\n",
       "    </tr>\n",
       "    <tr>\n",
       "      <th>107975</th>\n",
       "      <td>1497052668826189000</td>\n",
       "      <td>19.985635</td>\n",
       "      <td>39.934702</td>\n",
       "    </tr>\n",
       "    <tr>\n",
       "      <th>107976</th>\n",
       "      <td>1497052764846623000</td>\n",
       "      <td>19.987158</td>\n",
       "      <td>39.888993</td>\n",
       "    </tr>\n",
       "  </tbody>\n",
       "</table>\n",
       "<p>107977 rows × 3 columns</p>\n",
       "</div>"
      ],
      "text/plain": [
       "                   acqStamp  voltage_18V  current_18V\n",
       "0       1497052884872473000    19.981064    39.828047\n",
       "1       1497053192139704000    19.976493    40.071830\n",
       "2       1497053290561304000    19.984111    39.873756\n",
       "3       1497053364977589000    19.984111    39.888993\n",
       "4       1497053464999073000    19.987158    40.026121\n",
       "5       1497053591426205000    19.984111    40.330850\n",
       "6       1497053904294788000          NaN    40.285140\n",
       "7       1497054133944520000    19.944496    39.797574\n",
       "8       1497054209160665000    19.985635    39.888993\n",
       "9       1497054548434291000    20.013060    39.873756\n",
       "10      1497054558836559000          NaN    39.888993\n",
       "11      1497054726072146000    19.984111    40.087067\n",
       "12      1497054741275405000          NaN    39.858520\n",
       "13      1497054930116250000    19.985635    39.949939\n",
       "14      1497055383813460000    19.985635    39.904229\n",
       "15      1497055669475059000    19.985635    40.300377\n",
       "16      1497055808704900000          NaN    40.193722\n",
       "17      1497055859916517000    19.985635    39.980412\n",
       "18      1497055938333445000    19.982588    39.934702\n",
       "19      1497056011149105000    19.987158    39.858520\n",
       "20      1497056119172222000    19.991729    39.858520\n",
       "21      1497056193588373000    19.973446    40.117539\n",
       "22      1497056393631162000    19.942973    39.828047\n",
       "23      1497056751308067000    19.984111    39.888993\n",
       "24      1497056860131250000    19.994777    39.949939\n",
       "25      1497057188202572000          NaN    40.010884\n",
       "26      1497057299426506000    19.993253    39.934702\n",
       "27      1497057410650371000    19.979540    39.614737\n",
       "28      1497057537078008000    19.993253    40.208958\n",
       "29      1497057977972895000    19.985635    39.965175\n",
       "...                     ...          ...          ...\n",
       "107947  1497048239073525000    19.961257    40.178485\n",
       "107948  1497048419912045000    19.987158    40.132776\n",
       "107949  1497048470322876000    19.987158    40.163249\n",
       "107950  1497048715175788000    19.987158    39.873756\n",
       "107951  1497049188877755000    19.944496    40.056594\n",
       "107952  1497049208081956000          NaN    39.949939\n",
       "107953  1497049340110240000    19.984111    39.873756\n",
       "107954  1497049464136971000    19.985635    39.965175\n",
       "107955  1497049625772008000    20.011537    40.178485\n",
       "107956  1497049781805356000    19.979540    40.285140\n",
       "107957  1497049818613198000    20.011537    39.888993\n",
       "107958  1497049985848839000          NaN    40.102303\n",
       "107959  1497050179489858000    19.982588    39.919466\n",
       "107960  1497050206695849000    19.944496    40.026121\n",
       "107961  1497050237102488000    19.985635    39.949939\n",
       "107962  1497050404338622000    19.984111    39.980412\n",
       "107963  1497050517963144000    19.982588    39.919466\n",
       "107964  1497050741211401000    19.984111    39.934702\n",
       "107965  1497050770818023000    19.984111    39.919466\n",
       "107966  1497050933253088000    19.985635    40.041357\n",
       "107967  1497051134095618000    19.979540    39.965175\n",
       "107968  1497051187707403000    19.984111    40.300377\n",
       "107969  1497051318134710000    19.976493    40.026121\n",
       "107970  1497051656607469000    19.984111    40.056594\n",
       "107971  1497052037489995000    19.981064    39.828047\n",
       "107972  1497052404769185000          NaN    40.026121\n",
       "107973  1497052564803787000          NaN    39.904229\n",
       "107974  1497052595210260000    19.970398    39.873756\n",
       "107975  1497052668826189000    19.985635    39.934702\n",
       "107976  1497052764846623000    19.987158    39.888993\n",
       "\n",
       "[107977 rows x 3 columns]"
      ]
     },
     "execution_count": 8,
     "metadata": {},
     "output_type": "execute_result"
    }
   ],
   "source": [
    "df2 = spark.sql(\"SELECT acqStamp, voltage_18V, current_18V FROM temp \")\n",
    "df2.toPandas()"
   ]
  },
  {
   "cell_type": "markdown",
   "metadata": {},
   "source": [
    "Now a time series plot with matplotlib."
   ]
  },
  {
   "cell_type": "code",
   "execution_count": 9,
   "metadata": {
    "collapsed": false
   },
   "outputs": [
    {
     "name": "stderr",
     "output_type": "stream",
     "text": [
      "/cvmfs/sft-nightlies.cern.ch/lcg/views/dev3/Sun/x86_64-slc6-gcc62-opt/lib/python2.7/site-packages/matplotlib/font_manager.py:273: UserWarning: Matplotlib is building the font cache using fc-list. This may take a moment.\n",
      "  warnings.warn('Matplotlib is building the font cache using fc-list. This may take a moment.')\n"
     ]
    }
   ],
   "source": [
    "import matplotlib\n",
    "%matplotlib notebook"
   ]
  },
  {
   "cell_type": "code",
   "execution_count": 10,
   "metadata": {
    "collapsed": false
   },
   "outputs": [],
   "source": [
    "tgm_query = DevicePropertyQueryBuilder().system(\"CMW\").device(\"CPS.TGM\").property(\"FULL-TELEGRAM.STRC\") \\\n",
    "    .start_time(\"2017-06-10 00:00:00.000\").end_time(\"2017-06-11 00:00:00.000\").build_query()\n",
    "\n",
    "tgm_df = spark.read.options(**tgm_query.get_map()).format(\"cern.accsoft.nxcals.data.access.api\").load()\n"
   ]
  },
  {
   "cell_type": "code",
   "execution_count": 11,
   "metadata": {
    "collapsed": true
   },
   "outputs": [],
   "source": [
    "tgm_df.createOrReplaceTempView(\"tgm\")"
   ]
  },
  {
   "cell_type": "code",
   "execution_count": 12,
   "metadata": {
    "collapsed": false
   },
   "outputs": [
    {
     "name": "stdout",
     "output_type": "stream",
     "text": [
      "root\n",
      " |-- acqStamp: long (nullable = true)\n",
      " |-- nxcals_entity_id: long (nullable = true)\n",
      " |-- current_unit: string (nullable = true)\n",
      " |-- current_max: float (nullable = true)\n",
      " |-- cyclestamp: long (nullable = true)\n",
      " |-- acq_2: float (nullable = true)\n",
      " |-- current_tolr: float (nullable = true)\n",
      " |-- __record_version__: long (nullable = true)\n",
      " |-- current: float (nullable = true)\n",
      " |-- current_min: float (nullable = true)\n",
      " |-- property: string (nullable = true)\n",
      " |-- nxcals_timestamp: long (nullable = true)\n",
      " |-- current_status: integer (nullable = true)\n",
      " |-- selector: string (nullable = true)\n",
      " |-- current_tola: float (nullable = true)\n",
      " |-- class: string (nullable = true)\n",
      " |-- device: string (nullable = true)\n",
      "\n"
     ]
    }
   ],
   "source": [
    "query2 = DevicePropertyQueryBuilder().system(\"CMW\").device(\"PR.QTRJ-DB-A\").property(\"Acquisition\") \\\n",
    "    .start_time(\"2017-06-10 00:00:00.000\").end_time(\"2017-06-11 00:00:00.000\") \\\n",
    "    .build_query()\n",
    "    \n",
    "data2 = spark.read.options(**query2.get_map()).format(\"cern.accsoft.nxcals.data.access.api\").load()\n",
    "  \n",
    "data2.printSchema()"
   ]
  },
  {
   "cell_type": "code",
   "execution_count": 13,
   "metadata": {
    "collapsed": false
   },
   "outputs": [
    {
     "data": {
      "text/plain": [
       "54535"
      ]
     },
     "execution_count": 13,
     "metadata": {},
     "output_type": "execute_result"
    }
   ],
   "source": [
    "data2.count()"
   ]
  },
  {
   "cell_type": "code",
   "execution_count": 14,
   "metadata": {
    "collapsed": false
   },
   "outputs": [
    {
     "name": "stdout",
     "output_type": "stream",
     "text": [
      "+-------------------+----+-------+\n",
      "|         cyclestamp|USER|   DEST|\n",
      "+-------------------+----+-------+\n",
      "|1497085612300000000|  AD|PS_DUMP|\n",
      "|1497090597100000000|  AD|PS_DUMP|\n",
      "|1497082643500000000|  AD|PS_DUMP|\n",
      "|1497082895500000000|  AD|PS_DUMP|\n",
      "|1497084150700000000|  AD|PS_DUMP|\n",
      "|1497087124300000000|  AD|PS_DUMP|\n",
      "|1497090395500000000|  AD|PS_DUMP|\n",
      "|1497082744300000000|  AD|PS_DUMP|\n",
      "|1497085813900000000|  AD|PS_DUMP|\n",
      "|1497084453100000000|  AD|PS_DUMP|\n",
      "|1497084805900000000|  AD|PS_DUMP|\n",
      "|1497083596300000000|  AD|PS_DUMP|\n",
      "|1497084604300000000|  AD|PS_DUMP|\n",
      "|1497085511500000000|  AD|PS_DUMP|\n",
      "|1497085561900000000|  AD|PS_DUMP|\n",
      "|1497083999500000000|  AD|PS_DUMP|\n",
      "|1497082996300000000|  AD|PS_DUMP|\n",
      "|1497085259500000000|  AD|PS_DUMP|\n",
      "|1497083349100000000|  AD|PS_DUMP|\n",
      "|1497081678700000000|  AD|PS_DUMP|\n",
      "+-------------------+----+-------+\n",
      "only showing top 20 rows\n",
      "\n"
     ]
    }
   ],
   "source": [
    "tgm_df_dump = tgm_df.select(\"cyclestamp\", \"USER\",\"DEST\").where(\"DEST = 'PS_DUMP' AND USER != 'ZERO'\")\n",
    "tgm_df_dump.show()"
   ]
  },
  {
   "cell_type": "code",
   "execution_count": 15,
   "metadata": {
    "collapsed": false
   },
   "outputs": [
    {
     "name": "stdout",
     "output_type": "stream",
     "text": [
      "+-------------------+----+-------+---------+------------+-----------+-----------+\n",
      "|         cyclestamp|USER|   DEST|  current|      device|   property|current_min|\n",
      "+-------------------+----+-------+---------+------------+-----------+-----------+\n",
      "|1497090597100000000|  AD|PS_DUMP|443.10712|PR.QTRJ-DB-A|Acquisition|       null|\n",
      "|1497083797900000000|  AD|PS_DUMP|  442.819|PR.QTRJ-DB-A|Acquisition|       null|\n",
      "|1497082693900000000|  AD|PS_DUMP| 443.3792|PR.QTRJ-DB-A|Acquisition|       null|\n",
      "|1497083999500000000|  AD|PS_DUMP|443.26718|PR.QTRJ-DB-A|Acquisition|       null|\n",
      "|1497086368300000000|  AD|PS_DUMP| 443.3312|PR.QTRJ-DB-A|Acquisition|       null|\n",
      "|1497087124300000000|  AD|PS_DUMP|443.15512|PR.QTRJ-DB-A|Acquisition|       null|\n",
      "|1497083949100000000|  AD|PS_DUMP| 443.3792|PR.QTRJ-DB-A|Acquisition|       null|\n",
      "|1497084301900000000|  AD|PS_DUMP| 443.0431|PR.QTRJ-DB-A|Acquisition|       null|\n",
      "|1497081174700000000|  AD|PS_DUMP|443.20316|PR.QTRJ-DB-A|Acquisition|       null|\n",
      "|1497083248300000000|  AD|PS_DUMP|443.26718|PR.QTRJ-DB-A|Acquisition|       null|\n",
      "|1497085007500000000|  AD|PS_DUMP| 443.3152|PR.QTRJ-DB-A|Acquisition|       null|\n",
      "|1497083898700000000|  AD|PS_DUMP|443.39523|PR.QTRJ-DB-A|Acquisition|       null|\n",
      "|1497082794700000000|  AD|PS_DUMP|443.42725|PR.QTRJ-DB-A|Acquisition|       null|\n",
      "|1497083097100000000|  AD|PS_DUMP|  442.819|PR.QTRJ-DB-A|Acquisition|       null|\n",
      "|1497084654700000000|  AD|PS_DUMP|443.39523|PR.QTRJ-DB-A|Acquisition|       null|\n",
      "|1497086015500000000|  AD|PS_DUMP|443.15512|PR.QTRJ-DB-A|Acquisition|       null|\n",
      "|1497083349100000000|  AD|PS_DUMP| 443.3312|PR.QTRJ-DB-A|Acquisition|       null|\n",
      "|1497082945900000000|  AD|PS_DUMP| 443.3472|PR.QTRJ-DB-A|Acquisition|       null|\n",
      "|1497085813900000000|  AD|PS_DUMP| 443.3792|PR.QTRJ-DB-A|Acquisition|       null|\n",
      "|1497086922700000000|  AD|PS_DUMP|443.05908|PR.QTRJ-DB-A|Acquisition|       null|\n",
      "+-------------------+----+-------+---------+------------+-----------+-----------+\n",
      "only showing top 20 rows\n",
      "\n"
     ]
    }
   ],
   "source": [
    "result_df = tgm_df_dump.join(data2.select(\"cyclestamp\",\"current\",\"device\",\"property\",\"current_min\"),\"cyclestamp\")\n",
    "result_df.show()"
   ]
  },
  {
   "cell_type": "code",
   "execution_count": 16,
   "metadata": {
    "collapsed": false
   },
   "outputs": [
    {
     "data": {
      "text/plain": [
       "112"
      ]
     },
     "execution_count": 16,
     "metadata": {},
     "output_type": "execute_result"
    }
   ],
   "source": [
    "result_df.count()"
   ]
  },
  {
   "cell_type": "code",
   "execution_count": 17,
   "metadata": {
    "collapsed": false
   },
   "outputs": [
    {
     "name": "stdout",
     "output_type": "stream",
     "text": [
      "+-----------------+\n",
      "|     avg(current)|\n",
      "+-----------------+\n",
      "|443.2936128888811|\n",
      "+-----------------+\n",
      "\n"
     ]
    }
   ],
   "source": [
    "import pyspark.sql.functions as func\n",
    "\n",
    "result_df.agg(func.avg(\"current\")).show()"
   ]
  },
  {
   "cell_type": "code",
   "execution_count": 18,
   "metadata": {
    "collapsed": false
   },
   "outputs": [],
   "source": [
    "from cern.accsoft.nxcals.pyquery.builders.VariableQueryBuilder import *\n",
    "\n",
    "var = VariableQueryBuilder().variable(\"PR.QTRJ-DB-A:CURRENT\") \\\n",
    "    .start_time(\"2017-06-10 00:00:00.000\").end_time(\"2017-06-11 00:00:00.000\").build_query()\n",
    "    \n",
    "var_df = spark.read.options(**var.get_map()).format('cern.accsoft.nxcals.data.access.api').load()"
   ]
  },
  {
   "cell_type": "code",
   "execution_count": 19,
   "metadata": {
    "collapsed": false
   },
   "outputs": [
    {
     "name": "stdout",
     "output_type": "stream",
     "text": [
      "+------------+--------------------+----------------+-------------------+\n",
      "|nxcals_value|nxcals_variable_name|nxcals_entity_id|   nxcals_timestamp|\n",
      "+------------+--------------------+----------------+-------------------+\n",
      "|   443.61932|PR.QTRJ-DB-A:CURRENT|             236|1497052804300000000|\n",
      "|   371.51016|PR.QTRJ-DB-A:CURRENT|             236|1497053037100000000|\n",
      "|   1.6966858|PR.QTRJ-DB-A:CURRENT|             236|1497053194300000000|\n",
      "|    459.9299|PR.QTRJ-DB-A:CURRENT|             236|1497053388700000000|\n",
      "|   1.6806793|PR.QTRJ-DB-A:CURRENT|             236|1497055018300000000|\n",
      "|     460.138|PR.QTRJ-DB-A:CURRENT|             236|1497055176700000000|\n",
      "|   1.7447052|PR.QTRJ-DB-A:CURRENT|             236|1497055403500000000|\n",
      "|   1.8247375|PR.QTRJ-DB-A:CURRENT|             236|1497055933900000000|\n",
      "|    1.568634|PR.QTRJ-DB-A:CURRENT|             236|1497056273500000000|\n",
      "|   460.23404|PR.QTRJ-DB-A:CURRENT|             236|1497056367100000000|\n",
      "|   460.34607|PR.QTRJ-DB-A:CURRENT|             236|1497056887900000000|\n",
      "|   370.46976|PR.QTRJ-DB-A:CURRENT|             236|1497057358300000000|\n",
      "|   1.7286987|PR.QTRJ-DB-A:CURRENT|             236|1497058704700000000|\n",
      "|   1.5846405|PR.QTRJ-DB-A:CURRENT|             236|1497058851100000000|\n",
      "|   460.23404|PR.QTRJ-DB-A:CURRENT|             236|1497058907500000000|\n",
      "|    459.8979|PR.QTRJ-DB-A:CURRENT|             236|1497059302300000000|\n",
      "|   1.5846405|PR.QTRJ-DB-A:CURRENT|             236|1497060655900000000|\n",
      "|   460.37808|PR.QTRJ-DB-A:CURRENT|             236|1497060779500000000|\n",
      "|   1.5526276|PR.QTRJ-DB-A:CURRENT|             236|1497060846700000000|\n",
      "|   300.76157|PR.QTRJ-DB-A:CURRENT|             236|1497061229500000000|\n",
      "+------------+--------------------+----------------+-------------------+\n",
      "only showing top 20 rows\n",
      "\n"
     ]
    }
   ],
   "source": [
    "var_df.show()"
   ]
  },
  {
   "cell_type": "code",
   "execution_count": 20,
   "metadata": {
    "collapsed": false
   },
   "outputs": [
    {
     "data": {
      "text/plain": [
       "54535"
      ]
     },
     "execution_count": 20,
     "metadata": {},
     "output_type": "execute_result"
    }
   ],
   "source": [
    "var_df.count()"
   ]
  },
  {
   "cell_type": "code",
   "execution_count": 21,
   "metadata": {
    "collapsed": true
   },
   "outputs": [],
   "source": [
    "var_df.createOrReplaceTempView(\"var_data\")\n",
    "tgm_df_dump.createOrReplaceTempView(\"tgm_dump\")"
   ]
  },
  {
   "cell_type": "code",
   "execution_count": 22,
   "metadata": {
    "collapsed": false
   },
   "outputs": [
    {
     "name": "stdout",
     "output_type": "stream",
     "text": [
      "+--------------------+---------+-------------------+\n",
      "|            VARIABLE|    VALUE|              STAMP|\n",
      "+--------------------+---------+-------------------+\n",
      "|PR.QTRJ-DB-A:CURRENT|443.10712|1497090597100000000|\n",
      "|PR.QTRJ-DB-A:CURRENT|  442.819|1497083797900000000|\n",
      "|PR.QTRJ-DB-A:CURRENT| 443.3792|1497082693900000000|\n",
      "|PR.QTRJ-DB-A:CURRENT|443.26718|1497083999500000000|\n",
      "|PR.QTRJ-DB-A:CURRENT| 443.3312|1497086368300000000|\n",
      "|PR.QTRJ-DB-A:CURRENT|443.15512|1497087124300000000|\n",
      "|PR.QTRJ-DB-A:CURRENT| 443.3792|1497083949100000000|\n",
      "|PR.QTRJ-DB-A:CURRENT| 443.0431|1497084301900000000|\n",
      "|PR.QTRJ-DB-A:CURRENT|443.20316|1497081174700000000|\n",
      "|PR.QTRJ-DB-A:CURRENT|443.26718|1497083248300000000|\n",
      "|PR.QTRJ-DB-A:CURRENT| 443.3152|1497085007500000000|\n",
      "|PR.QTRJ-DB-A:CURRENT|443.39523|1497083898700000000|\n",
      "|PR.QTRJ-DB-A:CURRENT|443.42725|1497082794700000000|\n",
      "|PR.QTRJ-DB-A:CURRENT|  442.819|1497083097100000000|\n",
      "|PR.QTRJ-DB-A:CURRENT|443.39523|1497084654700000000|\n",
      "|PR.QTRJ-DB-A:CURRENT|443.15512|1497086015500000000|\n",
      "|PR.QTRJ-DB-A:CURRENT| 443.3312|1497083349100000000|\n",
      "|PR.QTRJ-DB-A:CURRENT| 443.3472|1497082945900000000|\n",
      "|PR.QTRJ-DB-A:CURRENT| 443.3792|1497085813900000000|\n",
      "|PR.QTRJ-DB-A:CURRENT|443.05908|1497086922700000000|\n",
      "+--------------------+---------+-------------------+\n",
      "only showing top 20 rows\n",
      "\n"
     ]
    }
   ],
   "source": [
    "res2 = spark.sql(\"SELECT nxcals_variable_name as VARIABLE, nxcals_value as VALUE, t1.nxcals_timestamp as STAMP \" \\\n",
    "                 \"FROM var_data t1 JOIN tgm_dump t2 ON t1.nxcals_timestamp = t2.cyclestamp\")\n",
    "res2.show()"
   ]
  },
  {
   "cell_type": "code",
   "execution_count": 23,
   "metadata": {
    "collapsed": false
   },
   "outputs": [
    {
     "data": {
      "text/plain": [
       "112"
      ]
     },
     "execution_count": 23,
     "metadata": {},
     "output_type": "execute_result"
    }
   ],
   "source": [
    "res2.count()"
   ]
  },
  {
   "cell_type": "code",
   "execution_count": 24,
   "metadata": {
    "collapsed": false
   },
   "outputs": [
    {
     "name": "stdout",
     "output_type": "stream",
     "text": [
      "+--------------------+--------+\n",
      "|            VARIABLE|   VALUE|\n",
      "+--------------------+--------+\n",
      "|PR.QTRJ-DB-A:CURRENT|443.6353|\n",
      "+--------------------+--------+\n",
      "\n"
     ]
    }
   ],
   "source": [
    "spark.sql(\"SELECT nxcals_variable_name as VARIABLE, max(nxcals_value) as VALUE \" \\\n",
    "                 \"FROM var_data t1 JOIN tgm_dump t2 ON t1.nxcals_timestamp = t2.cyclestamp \" \\\n",
    "                 \"GROUP BY nxcals_variable_name\").show()"
   ]
  }
 ],
 "metadata": {
  "kernelspec": {
   "display_name": "Python 2",
   "language": "python",
   "name": "python2"
  },
  "language_info": {
   "codemirror_mode": {
    "name": "ipython",
    "version": 2
   },
   "file_extension": ".py",
   "mimetype": "text/x-python",
   "name": "python",
   "nbconvert_exporter": "python",
   "pygments_lexer": "ipython2",
   "version": "2.7.6"
  }
 },
 "nbformat": 4,
 "nbformat_minor": 1
}

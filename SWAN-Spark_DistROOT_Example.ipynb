{
 "cells": [
  {
   "cell_type": "markdown",
   "metadata": {},
   "source": [
    "![ROOT Logo](http://root.cern.ch/img/logos/ROOT_Logo/website-banner/website-banner-%28not%20root%20picture%29.jpg)\n",
    "![Spark Logo](http://spark-mooc.github.io/web-assets/images/ta_Spark-logo-small.png)\n",
    "# **DistROOT Example Notebook**\n",
    "<hr style=\"border-top-width: 4px; border-top-color: #34609b;\">"
   ]
  },
  {
   "cell_type": "markdown",
   "metadata": {},
   "source": [
    "Get user credentials."
   ]
  },
  {
   "cell_type": "code",
   "execution_count": 1,
   "metadata": {},
   "outputs": [
    {
     "name": "stdout",
     "output_type": "stream",
     "text": [
      "Please enter your password\n",
      "········\n",
      "Credentials created successfully\n"
     ]
    }
   ],
   "source": [
    "import getpass\n",
    "import os, sys\n",
    "\n",
    "krb5ccname = '/tmp/krb5cc_' + os.environ['USER']\n",
    "os.environ['KRB5CCNAME'] = krb5ccname\n",
    "\n",
    "print(\"Please enter your password\")\n",
    "ret = os.system(\"echo \\\"%s\\\" | kinit -c %s\" % (getpass.getpass(), krb5ccname))\n",
    "\n",
    "if ret == 0: print(\"Credentials created successfully\")\n",
    "else:        sys.stderr.write('Error creating credentials, return code: %s\\n' % ret)"
   ]
  },
  {
   "cell_type": "markdown",
   "metadata": {},
   "source": [
    "Import Spark modules."
   ]
  },
  {
   "cell_type": "code",
   "execution_count": 2,
   "metadata": {
    "collapsed": true
   },
   "outputs": [],
   "source": [
    "from pyspark import SparkConf, SparkContext"
   ]
  },
  {
   "cell_type": "markdown",
   "metadata": {},
   "source": [
    "Create Spark configuration and context."
   ]
  },
  {
   "cell_type": "code",
   "execution_count": 3,
   "metadata": {
    "collapsed": true,
    "scrolled": false
   },
   "outputs": [],
   "source": [
    "conf = SparkConf()\n",
    "\n",
    "# Generic for SWAN-Spark prototype\n",
    "conf.set('spark.driver.host', os.environ['SERVER_HOSTNAME'])\n",
    "conf.set('spark.driver.port', os.environ['SPARK_PORT_1'])\n",
    "conf.set('spark.fileserver.port', os.environ['SPARK_PORT_2'])\n",
    "conf.set('spark.blockManager.port', os.environ['SPARK_PORT_3'])\n",
    "conf.set('spark.ui.port', os.environ['SPARK_PORT_4'])\n",
    "conf.set('spark.master', 'yarn')\n",
    "\n",
    "# DistROOT specific\n",
    "conf.setAppName(\"ROOT\")\n",
    "conf.set('spark.executor.extraLibraryPath', os.environ['LD_LIBRARY_PATH'])\n",
    "conf.set('spark.submit.pyFiles', os.environ['HOME'] + '/DistROOT.py')\n",
    "conf.set('spark.executorEnv.KRB5CCNAME', krb5ccname)\n",
    "conf.set('spark.yarn.dist.files', krb5ccname + '#krbcache')\n",
    "\n",
    "# Resource allocation\n",
    "conf.set('spark.executor.instances', 4)\n",
    "conf.set('spark.driver.memory', '2g')\n",
    "\n",
    "sc = SparkContext(conf = conf)"
   ]
  },
  {
   "cell_type": "markdown",
   "metadata": {},
   "source": [
    "Import DistROOT."
   ]
  },
  {
   "cell_type": "code",
   "execution_count": 4,
   "metadata": {},
   "outputs": [
    {
     "name": "stdout",
     "output_type": "stream",
     "text": [
      "Welcome to JupyROOT 6.10/04\n"
     ]
    }
   ],
   "source": [
    "import ROOT\n",
    "from DistROOT import DistTree"
   ]
  },
  {
   "cell_type": "markdown",
   "metadata": {},
   "source": [
    "Define the mapper and reducer functions. In this example, the mapper (`fill`) is in C++ and the reducer (`merge`) is in Python."
   ]
  },
  {
   "cell_type": "code",
   "execution_count": 5,
   "metadata": {
    "collapsed": true
   },
   "outputs": [],
   "source": [
    "%%cpp -d\n",
    "TH1F* fillHist(TTreeReader& reader) {\n",
    "    auto h = new TH1F(\"h\", \"Example histogram\", 100, -4, 4);\n",
    "    \n",
    "    TTreeReaderValue<Float_t> px(reader, \"px\");\n",
    "    TTreeReaderValue<Float_t> py(reader, \"py\");\n",
    "    \n",
    "    while (reader.Next()) {\n",
    "        h->Fill(*px + *py);\n",
    "    }\n",
    "    \n",
    "    return h;\n",
    "}"
   ]
  },
  {
   "cell_type": "code",
   "execution_count": 6,
   "metadata": {
    "collapsed": true
   },
   "outputs": [],
   "source": [
    "def mergeHist(h1, h2):\n",
    "    h1.Add(h2)\n",
    "    return h1"
   ]
  },
  {
   "cell_type": "markdown",
   "metadata": {},
   "source": [
    "Build the DistTree and trigger the parallel processing. The final result is the merged histogram."
   ]
  },
  {
   "cell_type": "code",
   "execution_count": 7,
   "metadata": {},
   "outputs": [],
   "source": [
    "dTree = DistTree(filelist = ['root://eosproject//eos/project/s/swan/pyroot-spark/data/hsimple.root',],\n",
    "                 treename = \"ntuple\",\n",
    "                 npartitions = 2)\n",
    "\n",
    "h = dTree.ProcessAndMerge(ROOT.fillHist, mergeHist)"
   ]
  },
  {
   "cell_type": "markdown",
   "metadata": {},
   "source": [
    "Draw the histogram we filled using Spark and ROOT."
   ]
  },
  {
   "cell_type": "code",
   "execution_count": 8,
   "metadata": {},
   "outputs": [
    {
     "data": {
      "image/png": "[encoded data removed]",
      "text/plain": [
       "<IPython.core.display.Image object>"
      ]
     },
     "metadata": {},
     "output_type": "display_data"
    }
   ],
   "source": [
    "c = ROOT.TCanvas()\n",
    "h.Draw()\n",
    "c.Draw()"
   ]
  }
 ],
 "metadata": {
  "kernelspec": {
   "display_name": "Python 2",
   "language": "python",
   "name": "python2"
  },
  "language_info": {
   "codemirror_mode": {
    "name": "ipython",
    "version": 2
   },
   "file_extension": ".py",
   "mimetype": "text/x-python",
   "name": "python",
   "nbconvert_exporter": "python",
   "pygments_lexer": "ipython2",
   "version": "2.7.13"
  }
 },
 "nbformat": 4,
 "nbformat_minor": 1
}
